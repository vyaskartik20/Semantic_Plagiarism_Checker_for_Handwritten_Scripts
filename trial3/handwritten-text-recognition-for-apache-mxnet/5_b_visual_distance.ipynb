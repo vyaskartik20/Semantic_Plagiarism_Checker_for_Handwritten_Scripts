{
 "cells": [
  {
   "cell_type": "code",
   "execution_count": 1,
   "metadata": {},
   "outputs": [],
   "source": [
    "from collections import defaultdict\n",
    "import glob\n",
    "from os.path import join\n",
    "import os\n",
    "import random\n",
    "import string\n",
    "import tarfile\n",
    "import zipfile"
   ]
  },
  {
   "cell_type": "code",
   "execution_count": 2,
   "metadata": {},
   "outputs": [],
   "source": [
    "import hnswlib\n",
    "import matplotlib.pyplot as plt\n",
    "import mxnet as mx\n",
    "from mxnet import gluon, nd, autograd\n",
    "import numpy as np\n",
    "import PIL\n",
    "from PIL import Image, ImageDraw, ImageFont, ImageOps\n",
    "from scipy.io import loadmat"
   ]
  },
  {
   "cell_type": "code",
   "execution_count": 3,
   "metadata": {},
   "outputs": [],
   "source": [
    "from ocr.handwriting_line_recognition import Network as HandwritingRecognitionNet, handwriting_recognition_transform\n",
    "from ocr.handwriting_line_recognition import decode as decoder_handwriting, alphabet_encoding"
   ]
  },
  {
   "cell_type": "markdown",
   "metadata": {},
   "source": [
    "# Data Generation\n",
    "\n",
    "We generate partial text that ressembles cursive using custom fonts angled / slided and of different sizes"
   ]
  },
  {
   "cell_type": "code",
   "execution_count": 4,
   "metadata": {},
   "outputs": [],
   "source": [
    "ctx= mx.gpu(0) if mx.context.num_gpus() > 0 else mx.cpu()"
   ]
  },
  {
   "cell_type": "code",
   "execution_count": 43,
   "metadata": {},
   "outputs": [],
   "source": [
    "fonts = [\n",
    "    'dataset/fonts/Herr_Von_Muellerhoff/HerrVonMuellerhoff-Regular.ttf',\n",
    "    'dataset/fonts/Aguafina_Script/AguafinaScript-Regular.ttf',\n",
    "    'dataset/fonts/Condiment/Condiment-Regular.ttf',\n",
    "    'dataset/fonts/Devonshire/Devonshire-Regular.ttf',\n",
    "    'dataset/fonts/Euphoria_Script/EuphoriaScript-Regular.ttf'\n",
    "]"
   ]
  },
  {
   "cell_type": "code",
   "execution_count": 114,
   "metadata": {},
   "outputs": [],
   "source": [
    "factors = {\n",
    "    fonts[0]: {'r':10, 'size':0.5, 'slide':(0.6, 0.2)},\n",
    "    fonts[1]: {'r':10, 'size':0.55, 'slide':(0.6, 0.2)},\n",
    "    fonts[2]: {'r':10, 'size':0.4, 'slide':(0.5, 0.2)},\n",
    "    fonts[3]: {'r':10, 'size':0.55, 'slide':(0.8, 0.2)},\n",
    "    fonts[4]: {'r':10, 'size':0.55, 'slide':(0.7, 0.2)},\n",
    "}"
   ]
  },
  {
   "cell_type": "markdown",
   "metadata": {},
   "source": [
    "Manual Testing of images"
   ]
  },
  {
   "cell_type": "code",
   "execution_count": 119,
   "metadata": {},
   "outputs": [
    {
     "data": {
      "image/png": "[encoded data removed]",
      "text/plain": [
       "<PIL.Image.Image image mode=RGB size=300x200 at 0x7F300D2EB828>"
      ]
     },
     "execution_count": 119,
     "metadata": {},
     "output_type": "execute_result"
    }
   ],
   "source": [
    "W, H = (300,200)\n",
    "im = Image.new(\"RGB\",(W,H),\"white\")\n",
    "msg = \"gzT\"\n",
    "font =  fonts[4]\n",
    "shift = 0\n",
    "initial_shit = random.uniform(30, 90)\n",
    "for i, char in enumerate(msg):    \n",
    "    size = random.gauss(factors[font]['size'], 0.05*factors[font]['size'] )*W\n",
    "    im_char = Image.new(\"RGBA\",(W,H), (255, 0, 0, 0))\n",
    "    draw = ImageDraw.Draw(im_char)\n",
    "    rotate = random.uniform(-factors[font]['r'], factors[font]['r'])\n",
    "    font_ = ImageFont.truetype(font, size=int(size))\n",
    "    slide = random.uniform(factors[font]['slide'][0]-factors[font]['slide'][1],factors[font]['slide'][0]+factors[font]['slide'][1])\n",
    "    w, h = draw.textsize(char, font_)\n",
    "    draw.text((initial_shit + shift,0), char, fill=\"black\", font=font_)\n",
    "    im_char = im_char.rotate(rotate, expand=0, resample=PIL.Image.BICUBIC)\n",
    "    im.paste(im_char, mask=im_char)\n",
    "    shift += slide*w\n",
    "im"
   ]
  },
  {
   "cell_type": "code",
   "execution_count": 120,
   "metadata": {},
   "outputs": [],
   "source": [
    "class FontDataset(gluon.data.Dataset):\n",
    "    def __init__(self, font=fonts[3],\n",
    "                  ngrams=3, size=(300, 200), out_channel=1):\n",
    "        self.font = font\n",
    "        self.ngrams = ngrams\n",
    "        self.alphabet = list(' ' + string.ascii_letters + string.digits+\"'.,;:\\\"()?!\")\n",
    "        self.elements = self.alphabet\n",
    "        self.size = size\n",
    "        self.out_channel = out_channel\n",
    "        for i in range(self.ngrams-1):\n",
    "            elements_ = []\n",
    "            for word in self.elements:\n",
    "                for letter in self.alphabet:\n",
    "                    elements_.append(word+letter)\n",
    "            self.elements = elements_\n",
    "        a = 1\n",
    "        \n",
    "    def _get_img(self, text, font=None):\n",
    "        W, H = self.size\n",
    "        if font is None:\n",
    "            font = self.font\n",
    "            font_ = ImageFont.truetype(self.font, size=120)\n",
    "        else:\n",
    "            font_ = ImageFont.truetype(font, size=60)\n",
    "        im = Image.new(\"RGB\",(W,H),\"white\")\n",
    "        shift = 0\n",
    "        initial_shit = random.uniform(0.1*W, 0.3*W)\n",
    "        for i, char in enumerate(text):    \n",
    "            size = random.gauss(factors[font]['size'], 0.05*factors[font]['size'] )*W\n",
    "            im_char = Image.new(\"RGBA\",(W,H), (255, 0, 0, 0))\n",
    "            draw = ImageDraw.Draw(im_char)\n",
    "            rotate = random.uniform(-factors[font]['r'], factors[font]['r'])\n",
    "            font_ = ImageFont.truetype(font, size=int(size))\n",
    "            slide = random.uniform(factors[font]['slide'][0]-factors[font]['slide'][1],factors[font]['slide'][0]+factors[font]['slide'][1])\n",
    "            w, h = draw.textsize(char, font_)\n",
    "            draw.text((initial_shit + shift,0), char, fill=\"black\", font=font_)\n",
    "            im_char = im_char.rotate(rotate, expand=0, resample=PIL.Image.BICUBIC)\n",
    "            im.paste(im_char, mask=im_char)\n",
    "            shift += slide*w\n",
    "        return im\n",
    "            \n",
    "    def __getitem__(self, idx):\n",
    "        text = self.elements[idx]\n",
    "        im = self._get_img(text)\n",
    "        if self.out_channel == 3:\n",
    "            return nd.array(np.array(im)), idx\n",
    "        else:\n",
    "            return nd.array(np.array(im).mean(axis=2)).expand_dims(axis=2), idx\n",
    "        \n",
    "    def __len__(self):\n",
    "        return len(self.elements)    "
   ]
  },
  {
   "cell_type": "code",
   "execution_count": 121,
   "metadata": {},
   "outputs": [],
   "source": [
    "train_dataset = FontDataset()\n",
    "batch_size = 64\n",
    "train_data = gluon.data.DataLoader(train_dataset.transform_first(gluon.data.vision.transforms.ToTensor()), batch_size=batch_size, last_batch='rollover', shuffle=True, num_workers=8)"
   ]
  },
  {
   "cell_type": "code",
   "execution_count": 123,
   "metadata": {},
   "outputs": [
    {
     "data": {
      "text/plain": [
       "<matplotlib.image.AxesImage at 0x7f300415b470>"
      ]
     },
     "execution_count": 123,
     "metadata": {},
     "output_type": "execute_result"
    },
    {
     "data": {
      "image/png": "[encoded data removed]",
      "text/plain": [
       "<Figure size 432x288 with 1 Axes>"
      ]
     },
     "metadata": {},
     "output_type": "display_data"
    }
   ],
   "source": [
    "plt.imshow(train_dataset._get_img('m\"u'), cmap='gray')"
   ]
  },
  {
   "cell_type": "markdown",
   "metadata": {},
   "source": [
    "## Using the pre-trained recognition network"
   ]
  },
  {
   "cell_type": "code",
   "execution_count": 125,
   "metadata": {},
   "outputs": [],
   "source": [
    "handwriting_line_recognition_net = HandwritingRecognitionNet(rnn_hidden_states=512,\n",
    "                                                             rnn_layers=2, ctx=ctx, max_seq_len=160)\n",
    "handwriting_line_recognition_net.load_parameters(\"models/handwriting_line8.params\", ctx=ctx)"
   ]
  },
  {
   "cell_type": "code",
   "execution_count": 142,
   "metadata": {},
   "outputs": [],
   "source": [
    "im = np.array(train_dataset._get_img('cow'))"
   ]
  },
  {
   "cell_type": "code",
   "execution_count": 143,
   "metadata": {},
   "outputs": [
    {
     "data": {
      "text/plain": [
       "<matplotlib.image.AxesImage at 0x7f2ff04f8320>"
      ]
     },
     "execution_count": 143,
     "metadata": {},
     "output_type": "execute_result"
    },
    {
     "data": {
      "image/png": "[encoded data removed]",
      "text/plain": [
       "<Figure size 432x288 with 1 Axes>"
      ]
     },
     "metadata": {},
     "output_type": "display_data"
    }
   ],
   "source": [
    "plt.imshow(im)"
   ]
  },
  {
   "cell_type": "code",
   "execution_count": 144,
   "metadata": {},
   "outputs": [],
   "source": [
    "line_image_size = (60, 800)\n",
    "line_image = handwriting_recognition_transform(np.array(im).mean(axis=2), line_image_size)\n",
    "line_character_prob = handwriting_line_recognition_net(line_image.as_in_context(ctx))"
   ]
  },
  {
   "cell_type": "code",
   "execution_count": 145,
   "metadata": {},
   "outputs": [
    {
     "data": {
      "text/plain": [
       "<matplotlib.image.AxesImage at 0x7f2ff055c2e8>"
      ]
     },
     "execution_count": 145,
     "metadata": {},
     "output_type": "execute_result"
    },
    {
     "data": {
      "image/png": "[encoded data removed]",
      "text/plain": [
       "<Figure size 1080x1080 with 1 Axes>"
      ]
     },
     "metadata": {},
     "output_type": "display_data"
    }
   ],
   "source": [
    "plt.figure(figsize=(15,15))\n",
    "plt.imshow(line_image[0,0,:,:].asnumpy(), cmap='gray')"
   ]
  },
  {
   "cell_type": "code",
   "execution_count": 146,
   "metadata": {},
   "outputs": [],
   "source": [
    "from ocr.utils.CTCDecoder.BeamSearch import ctcBeamSearch"
   ]
  },
  {
   "cell_type": "code",
   "execution_count": 147,
   "metadata": {},
   "outputs": [],
   "source": [
    "def get_beam_search(prob, width=20, k=10):\n",
    "    possibilities = ctcBeamSearch(line_character_prob.softmax()[0].asnumpy(), alphabet_encoding, None, width, k)\n",
    "    return possibilities"
   ]
  },
  {
   "cell_type": "code",
   "execution_count": 148,
   "metadata": {},
   "outputs": [
    {
     "data": {
      "text/plain": [
       "['cow',\n",
       " 'coow',\n",
       " 'co',\n",
       " 'cows',\n",
       " 'coo',\n",
       " 'coows',\n",
       " 'cnow',\n",
       " 'cou',\n",
       " 'cowd',\n",
       " 'cvow',\n",
       " 'cow.',\n",
       " 'coow.',\n",
       " 'co.',\n",
       " 'cows.',\n",
       " 'coo.',\n",
       " 'coows.',\n",
       " 'cnow.',\n",
       " 'cou.',\n",
       " 'cowd.',\n",
       " 'cvow.']"
      ]
     },
     "execution_count": 148,
     "metadata": {},
     "output_type": "execute_result"
    }
   ],
   "source": [
    "get_beam_search(line_character_prob)"
   ]
  },
  {
   "cell_type": "markdown",
   "metadata": {},
   "source": [
    "**Problem:** The network has already learnt a language model that biases the result towards realistic looking syllables"
   ]
  },
  {
   "cell_type": "markdown",
   "metadata": {},
   "source": [
    "## Testing a pre-trained network"
   ]
  },
  {
   "cell_type": "code",
   "execution_count": 149,
   "metadata": {},
   "outputs": [],
   "source": [
    "net = mx.gluon.model_zoo.vision.resnet18_v2(pretrained=True, ctx=ctx).features"
   ]
  },
  {
   "cell_type": "code",
   "execution_count": 150,
   "metadata": {},
   "outputs": [],
   "source": [
    "net.hybridize()"
   ]
  },
  {
   "cell_type": "code",
   "execution_count": 151,
   "metadata": {},
   "outputs": [],
   "source": [
    "batch_size = 128\n",
    "dim = 512\n",
    "tf = gluon.data.vision.transforms.ToTensor()"
   ]
  },
  {
   "cell_type": "code",
   "execution_count": 152,
   "metadata": {},
   "outputs": [
    {
     "name": "stdout",
     "output_type": "stream",
     "text": [
      "0\n",
      "1\n",
      "2\n",
      "3\n",
      "4\n",
      "5\n",
      "6\n",
      "7\n",
      "8\n",
      "9\n",
      "10\n",
      "11\n",
      "12\n",
      "13\n",
      "14\n",
      "15\n",
      "16\n",
      "17\n",
      "18\n",
      "19\n",
      "CPU times: user 42.9 s, sys: 32.1 s, total: 1min 14s\n",
      "Wall time: 4min 26s\n"
     ]
    }
   ],
   "source": [
    "%%time\n",
    "j = 0\n",
    "num_iterations = 4\n",
    "outputs = []\n",
    "for font in fonts:\n",
    "\n",
    "    train_dataset = FontDataset(ngrams=2, out_channel=3, font=font)\n",
    "    train_data = gluon.data.DataLoader(train_dataset.transform_first(tf), batch_size=batch_size, shuffle=False, num_workers=8)\n",
    "\n",
    "    for k in range(num_iterations):\n",
    "        print(j)\n",
    "        j += 1\n",
    "        for i, (data, _) in enumerate(train_data):\n",
    "            data = data.as_in_context(ctx)\n",
    "            output = net(data)\n",
    "            #embeddings[i*batch_size:(i+1)*batch_size, :] += output.squeeze().asnumpy()\n",
    "            for out in output.squeeze().asnumpy().reshape(-1, 512):\n",
    "                outputs.append(out)"
   ]
  },
  {
   "cell_type": "code",
   "execution_count": 153,
   "metadata": {},
   "outputs": [],
   "source": [
    "def get_index(dim, embeddings, num_elements):\n",
    "    # Generating sample data\n",
    "    data = np.float32(np.random.random((num_elements, dim)))\n",
    "    data_labels = np.arange(num_elements)\n",
    "\n",
    "    # Declaring index\n",
    "    p = hnswlib.Index(space = 'l2', dim = dim) # possible options are l2, cosine or ip\n",
    "\n",
    "    # Initing index - the maximum number of elements should be known beforehand\n",
    "    p.init_index(max_elements = num_elements, ef_construction = 200, M = 16)\n",
    "\n",
    "    # Element insertion (can be called several times):\n",
    "    p.add_items(embeddings, data_labels)\n",
    "\n",
    "    # Controlling the recall by setting ef:\n",
    "    p.set_ef(50) # ef should always be > k\n",
    "    return p"
   ]
  },
  {
   "cell_type": "code",
   "execution_count": 154,
   "metadata": {},
   "outputs": [],
   "source": [
    "p = get_index(dim, np.concatenate([arr.reshape(1, -1) for arr in outputs]), len(outputs))"
   ]
  },
  {
   "cell_type": "code",
   "execution_count": 183,
   "metadata": {},
   "outputs": [
    {
     "data": {
      "text/plain": [
       "<matplotlib.image.AxesImage at 0x7f3007da1b38>"
      ]
     },
     "execution_count": 183,
     "metadata": {},
     "output_type": "execute_result"
    },
    {
     "data": {
      "image/png": "[encoded data removed]",
      "text/plain": [
       "<Figure size 432x288 with 1 Axes>"
      ]
     },
     "metadata": {},
     "output_type": "display_data"
    }
   ],
   "source": [
    "# Query dataset, k - number of closest elements (returns 2 numpy arrays)\n",
    "img_ =  FontDataset(ngrams=2, out_channel=3, font=fonts[random.randint(0,len(fonts)-1)])._get_img(\"rn\")\n",
    "plt.imshow(img_)"
   ]
  },
  {
   "cell_type": "code",
   "execution_count": 185,
   "metadata": {},
   "outputs": [
    {
     "data": {
      "text/plain": [
       "[('m,', 6.9569373),\n",
       " ('rn', 7.5215664),\n",
       " ('nn', 7.833893),\n",
       " ('m ', 8.58198),\n",
       " ('nn', 9.298881),\n",
       " ('n ', 10.03327),\n",
       " ('m.', 10.229692),\n",
       " ('rn', 11.013294),\n",
       " ('mn', 11.098972),\n",
       " ('ra', 11.17969),\n",
       " (',m', 11.533644),\n",
       " (' m', 11.542616),\n",
       " ('ra', 11.563443),\n",
       " ('nn', 11.851172),\n",
       " ('.m', 12.124906),\n",
       " ('mm', 12.234188),\n",
       " ('n ', 12.258422),\n",
       " (' n', 12.284981),\n",
       " ('nq', 12.339354),\n",
       " ('m:', 12.507874)]"
      ]
     },
     "execution_count": 185,
     "metadata": {},
     "output_type": "execute_result"
    }
   ],
   "source": [
    "img = nd.array(np.array(img_))\n",
    "output = net(tf(img).as_in_context(ctx).expand_dims(axis=0)).squeeze().asnumpy()\n",
    "labels, distances = p.knn_query(output, k = 20)\n",
    "[(train_dataset.elements[int(i%len(train_dataset))],d) for i,d in zip(labels[0],distances[0])]"
   ]
  },
  {
   "cell_type": "markdown",
   "metadata": {},
   "source": [
    "### Post Processing TBD"
   ]
  }
 ],
 "metadata": {
  "kernelspec": {
   "display_name": "Python 3",
   "language": "python",
   "name": "python3"
  },
  "language_info": {
   "codemirror_mode": {
    "name": "ipython",
    "version": 3
   },
   "file_extension": ".py",
   "mimetype": "text/x-python",
   "name": "python",
   "nbconvert_exporter": "python",
   "pygments_lexer": "ipython3",
   "version": "3.6.4"
  }
 },
 "nbformat": 4,
 "nbformat_minor": 2
}
